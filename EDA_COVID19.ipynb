{
  "cells": [
    {
      "cell_type": "markdown",
      "source": [
        "<h1>Alfin Abraham (4181788)</h1>\n",
        "<h1>Karthik Nalla(4178520)</h1>\n"
      ],
      "metadata": {
        "id": "mZRlpUUP6PBI"
      }
    },
    {
      "cell_type": "markdown",
      "metadata": {
        "id": "xiJDVnVBA72f"
      },
      "source": [
        "# TW3 Exploratory Data Analysis"
      ]
    },
    {
      "cell_type": "markdown",
      "metadata": {
        "id": "TTsgxATDA72i"
      },
      "source": [
        "#### Write full names of your team members who worked together.\n",
        "\n",
        "\n",
        "\n",
        "\n",
        "#### Submission:\n",
        "\n",
        "- Push the completed code to your Github repository.\n",
        "\n",
        "- See more information in Canvas. "
      ]
    },
    {
      "cell_type": "markdown",
      "metadata": {
        "id": "xbvCmimAA72j"
      },
      "source": [
        "## Part 0: \n",
        "    \n",
        "The following Git repository is for the COVID-19 visual dashboard operated by the Johns Hopkins University Center for Systems Science and Engineering: \n",
        "\n",
        "https://github.com/CSSEGISandData/COVID-19\n",
        "\n",
        "- Read the information on the dashboard and check the datasets details\n",
        "\n",
        "- Datasets are located in a folder: csse_covid_19_data\n",
        "\n",
        "We will walk through the code and see how Python Pandas functions are used to process the data. \n"
      ]
    },
    {
      "cell_type": "markdown",
      "metadata": {
        "id": "6M3yKHD3A72l"
      },
      "source": [
        "##### The example below is COVID19 cases in the US. \n",
        "\n",
        "- We download two files but they seem the same. Let's use the file for confirmed cases. "
      ]
    },
    {
      "cell_type": "code",
      "execution_count": 31,
      "metadata": {
        "colab": {
          "base_uri": "https://localhost:8080/"
        },
        "id": "1tH02vDNA72m",
        "outputId": "ae4637a2-8774-4bda-9061-64c27483b99c"
      },
      "outputs": [
        {
          "output_type": "stream",
          "name": "stdout",
          "text": [
            "Downloading time_series_covid19_confirmed_US.csv\n",
            "Downloading time_series_covid19_deaths_US.csv\n"
          ]
        }
      ],
      "source": [
        "# Download the data from the Web\n",
        "\n",
        "import os\n",
        "datapath = os.path.join(\"csse_covid_19_data\", \"csse_covid_19_data\", \"\")\n",
        "\n",
        "import urllib\n",
        "\n",
        "DOWNLOAD_ROOT = \"https://raw.githubusercontent.com/CSSEGISandData/COVID-19/master/csse_covid_19_data/csse_covid_19_time_series/time_series_covid19_confirmed_US.csv\"\n",
        "os.makedirs(datapath, exist_ok=True)\n",
        "\n",
        "for filename in (\"time_series_covid19_confirmed_US.csv\",\"time_series_covid19_deaths_US.csv\"):\n",
        "    print(\"Downloading\", filename)\n",
        "    url = DOWNLOAD_ROOT + \"csse_covid_19_data/csse_covid_19_data/\" + filename\n",
        "    urllib.request.urlretrieve(DOWNLOAD_ROOT, datapath + filename)"
      ]
    },
    {
      "cell_type": "code",
      "execution_count": 32,
      "metadata": {
        "id": "QWMDAB2mA72o"
      },
      "outputs": [],
      "source": [
        "# import necessary packages and modules\n",
        "\n",
        "%matplotlib inline\n",
        "\n",
        "import pandas as pd\n",
        "import matplotlib.pyplot as plt"
      ]
    },
    {
      "cell_type": "markdown",
      "metadata": {
        "id": "0h6I3rv0A72p"
      },
      "source": [
        "### Read data"
      ]
    },
    {
      "cell_type": "code",
      "execution_count": 33,
      "metadata": {
        "colab": {
          "base_uri": "https://localhost:8080/",
          "height": 299
        },
        "id": "dOpurlTMA72p",
        "outputId": "a243a262-3c1e-4d3f-a9dd-2fa11beacfdc"
      },
      "outputs": [
        {
          "output_type": "execute_result",
          "data": {
            "text/plain": [
              "        UID iso2 iso3  code3    FIPS   Admin2 Province_State Country_Region  \\\n",
              "0  84001001   US  USA    840  1001.0  Autauga        Alabama             US   \n",
              "1  84001003   US  USA    840  1003.0  Baldwin        Alabama             US   \n",
              "2  84001005   US  USA    840  1005.0  Barbour        Alabama             US   \n",
              "3  84001007   US  USA    840  1007.0     Bibb        Alabama             US   \n",
              "4  84001009   US  USA    840  1009.0   Blount        Alabama             US   \n",
              "\n",
              "         Lat      Long_  ... 10/3/22  10/4/22  10/5/22  10/6/22  10/7/22  \\\n",
              "0  32.539527 -86.644082  ...   18396    18396    18396    18422    18422   \n",
              "1  30.727750 -87.722071  ...   65653    65653    65653    65742    65742   \n",
              "2  31.868263 -85.387129  ...    6896     6896     6896     6910     6910   \n",
              "3  32.996421 -87.125115  ...    7526     7526     7526     7537     7537   \n",
              "4  33.982109 -86.567906  ...   16912    16912    16912    17042    17042   \n",
              "\n",
              "   10/8/22  10/9/22  10/10/22  10/11/22  10/12/22  \n",
              "0    18422    18422     18422     18422     18422  \n",
              "1    65742    65742     65742     65742     65742  \n",
              "2     6910     6910      6910      6910      6910  \n",
              "3     7537     7537      7537      7537      7537  \n",
              "4    17042    17042     17042     17042     17042  \n",
              "\n",
              "[5 rows x 1006 columns]"
            ],
            "text/html": [
              "\n",
              "  <div id=\"df-c7c19356-332e-4d13-8723-fe35923696f1\">\n",
              "    <div class=\"colab-df-container\">\n",
              "      <div>\n",
              "<style scoped>\n",
              "    .dataframe tbody tr th:only-of-type {\n",
              "        vertical-align: middle;\n",
              "    }\n",
              "\n",
              "    .dataframe tbody tr th {\n",
              "        vertical-align: top;\n",
              "    }\n",
              "\n",
              "    .dataframe thead th {\n",
              "        text-align: right;\n",
              "    }\n",
              "</style>\n",
              "<table border=\"1\" class=\"dataframe\">\n",
              "  <thead>\n",
              "    <tr style=\"text-align: right;\">\n",
              "      <th></th>\n",
              "      <th>UID</th>\n",
              "      <th>iso2</th>\n",
              "      <th>iso3</th>\n",
              "      <th>code3</th>\n",
              "      <th>FIPS</th>\n",
              "      <th>Admin2</th>\n",
              "      <th>Province_State</th>\n",
              "      <th>Country_Region</th>\n",
              "      <th>Lat</th>\n",
              "      <th>Long_</th>\n",
              "      <th>...</th>\n",
              "      <th>10/3/22</th>\n",
              "      <th>10/4/22</th>\n",
              "      <th>10/5/22</th>\n",
              "      <th>10/6/22</th>\n",
              "      <th>10/7/22</th>\n",
              "      <th>10/8/22</th>\n",
              "      <th>10/9/22</th>\n",
              "      <th>10/10/22</th>\n",
              "      <th>10/11/22</th>\n",
              "      <th>10/12/22</th>\n",
              "    </tr>\n",
              "  </thead>\n",
              "  <tbody>\n",
              "    <tr>\n",
              "      <th>0</th>\n",
              "      <td>84001001</td>\n",
              "      <td>US</td>\n",
              "      <td>USA</td>\n",
              "      <td>840</td>\n",
              "      <td>1001.0</td>\n",
              "      <td>Autauga</td>\n",
              "      <td>Alabama</td>\n",
              "      <td>US</td>\n",
              "      <td>32.539527</td>\n",
              "      <td>-86.644082</td>\n",
              "      <td>...</td>\n",
              "      <td>18396</td>\n",
              "      <td>18396</td>\n",
              "      <td>18396</td>\n",
              "      <td>18422</td>\n",
              "      <td>18422</td>\n",
              "      <td>18422</td>\n",
              "      <td>18422</td>\n",
              "      <td>18422</td>\n",
              "      <td>18422</td>\n",
              "      <td>18422</td>\n",
              "    </tr>\n",
              "    <tr>\n",
              "      <th>1</th>\n",
              "      <td>84001003</td>\n",
              "      <td>US</td>\n",
              "      <td>USA</td>\n",
              "      <td>840</td>\n",
              "      <td>1003.0</td>\n",
              "      <td>Baldwin</td>\n",
              "      <td>Alabama</td>\n",
              "      <td>US</td>\n",
              "      <td>30.727750</td>\n",
              "      <td>-87.722071</td>\n",
              "      <td>...</td>\n",
              "      <td>65653</td>\n",
              "      <td>65653</td>\n",
              "      <td>65653</td>\n",
              "      <td>65742</td>\n",
              "      <td>65742</td>\n",
              "      <td>65742</td>\n",
              "      <td>65742</td>\n",
              "      <td>65742</td>\n",
              "      <td>65742</td>\n",
              "      <td>65742</td>\n",
              "    </tr>\n",
              "    <tr>\n",
              "      <th>2</th>\n",
              "      <td>84001005</td>\n",
              "      <td>US</td>\n",
              "      <td>USA</td>\n",
              "      <td>840</td>\n",
              "      <td>1005.0</td>\n",
              "      <td>Barbour</td>\n",
              "      <td>Alabama</td>\n",
              "      <td>US</td>\n",
              "      <td>31.868263</td>\n",
              "      <td>-85.387129</td>\n",
              "      <td>...</td>\n",
              "      <td>6896</td>\n",
              "      <td>6896</td>\n",
              "      <td>6896</td>\n",
              "      <td>6910</td>\n",
              "      <td>6910</td>\n",
              "      <td>6910</td>\n",
              "      <td>6910</td>\n",
              "      <td>6910</td>\n",
              "      <td>6910</td>\n",
              "      <td>6910</td>\n",
              "    </tr>\n",
              "    <tr>\n",
              "      <th>3</th>\n",
              "      <td>84001007</td>\n",
              "      <td>US</td>\n",
              "      <td>USA</td>\n",
              "      <td>840</td>\n",
              "      <td>1007.0</td>\n",
              "      <td>Bibb</td>\n",
              "      <td>Alabama</td>\n",
              "      <td>US</td>\n",
              "      <td>32.996421</td>\n",
              "      <td>-87.125115</td>\n",
              "      <td>...</td>\n",
              "      <td>7526</td>\n",
              "      <td>7526</td>\n",
              "      <td>7526</td>\n",
              "      <td>7537</td>\n",
              "      <td>7537</td>\n",
              "      <td>7537</td>\n",
              "      <td>7537</td>\n",
              "      <td>7537</td>\n",
              "      <td>7537</td>\n",
              "      <td>7537</td>\n",
              "    </tr>\n",
              "    <tr>\n",
              "      <th>4</th>\n",
              "      <td>84001009</td>\n",
              "      <td>US</td>\n",
              "      <td>USA</td>\n",
              "      <td>840</td>\n",
              "      <td>1009.0</td>\n",
              "      <td>Blount</td>\n",
              "      <td>Alabama</td>\n",
              "      <td>US</td>\n",
              "      <td>33.982109</td>\n",
              "      <td>-86.567906</td>\n",
              "      <td>...</td>\n",
              "      <td>16912</td>\n",
              "      <td>16912</td>\n",
              "      <td>16912</td>\n",
              "      <td>17042</td>\n",
              "      <td>17042</td>\n",
              "      <td>17042</td>\n",
              "      <td>17042</td>\n",
              "      <td>17042</td>\n",
              "      <td>17042</td>\n",
              "      <td>17042</td>\n",
              "    </tr>\n",
              "  </tbody>\n",
              "</table>\n",
              "<p>5 rows × 1006 columns</p>\n",
              "</div>\n",
              "      <button class=\"colab-df-convert\" onclick=\"convertToInteractive('df-c7c19356-332e-4d13-8723-fe35923696f1')\"\n",
              "              title=\"Convert this dataframe to an interactive table.\"\n",
              "              style=\"display:none;\">\n",
              "        \n",
              "  <svg xmlns=\"http://www.w3.org/2000/svg\" height=\"24px\"viewBox=\"0 0 24 24\"\n",
              "       width=\"24px\">\n",
              "    <path d=\"M0 0h24v24H0V0z\" fill=\"none\"/>\n",
              "    <path d=\"M18.56 5.44l.94 2.06.94-2.06 2.06-.94-2.06-.94-.94-2.06-.94 2.06-2.06.94zm-11 1L8.5 8.5l.94-2.06 2.06-.94-2.06-.94L8.5 2.5l-.94 2.06-2.06.94zm10 10l.94 2.06.94-2.06 2.06-.94-2.06-.94-.94-2.06-.94 2.06-2.06.94z\"/><path d=\"M17.41 7.96l-1.37-1.37c-.4-.4-.92-.59-1.43-.59-.52 0-1.04.2-1.43.59L10.3 9.45l-7.72 7.72c-.78.78-.78 2.05 0 2.83L4 21.41c.39.39.9.59 1.41.59.51 0 1.02-.2 1.41-.59l7.78-7.78 2.81-2.81c.8-.78.8-2.07 0-2.86zM5.41 20L4 18.59l7.72-7.72 1.47 1.35L5.41 20z\"/>\n",
              "  </svg>\n",
              "      </button>\n",
              "      \n",
              "  <style>\n",
              "    .colab-df-container {\n",
              "      display:flex;\n",
              "      flex-wrap:wrap;\n",
              "      gap: 12px;\n",
              "    }\n",
              "\n",
              "    .colab-df-convert {\n",
              "      background-color: #E8F0FE;\n",
              "      border: none;\n",
              "      border-radius: 50%;\n",
              "      cursor: pointer;\n",
              "      display: none;\n",
              "      fill: #1967D2;\n",
              "      height: 32px;\n",
              "      padding: 0 0 0 0;\n",
              "      width: 32px;\n",
              "    }\n",
              "\n",
              "    .colab-df-convert:hover {\n",
              "      background-color: #E2EBFA;\n",
              "      box-shadow: 0px 1px 2px rgba(60, 64, 67, 0.3), 0px 1px 3px 1px rgba(60, 64, 67, 0.15);\n",
              "      fill: #174EA6;\n",
              "    }\n",
              "\n",
              "    [theme=dark] .colab-df-convert {\n",
              "      background-color: #3B4455;\n",
              "      fill: #D2E3FC;\n",
              "    }\n",
              "\n",
              "    [theme=dark] .colab-df-convert:hover {\n",
              "      background-color: #434B5C;\n",
              "      box-shadow: 0px 1px 3px 1px rgba(0, 0, 0, 0.15);\n",
              "      filter: drop-shadow(0px 1px 2px rgba(0, 0, 0, 0.3));\n",
              "      fill: #FFFFFF;\n",
              "    }\n",
              "  </style>\n",
              "\n",
              "      <script>\n",
              "        const buttonEl =\n",
              "          document.querySelector('#df-c7c19356-332e-4d13-8723-fe35923696f1 button.colab-df-convert');\n",
              "        buttonEl.style.display =\n",
              "          google.colab.kernel.accessAllowed ? 'block' : 'none';\n",
              "\n",
              "        async function convertToInteractive(key) {\n",
              "          const element = document.querySelector('#df-c7c19356-332e-4d13-8723-fe35923696f1');\n",
              "          const dataTable =\n",
              "            await google.colab.kernel.invokeFunction('convertToInteractive',\n",
              "                                                     [key], {});\n",
              "          if (!dataTable) return;\n",
              "\n",
              "          const docLinkHtml = 'Like what you see? Visit the ' +\n",
              "            '<a target=\"_blank\" href=https://colab.research.google.com/notebooks/data_table.ipynb>data table notebook</a>'\n",
              "            + ' to learn more about interactive tables.';\n",
              "          element.innerHTML = '';\n",
              "          dataTable['output_type'] = 'display_data';\n",
              "          await google.colab.output.renderOutput(dataTable, element);\n",
              "          const docLink = document.createElement('div');\n",
              "          docLink.innerHTML = docLinkHtml;\n",
              "          element.appendChild(docLink);\n",
              "        }\n",
              "      </script>\n",
              "    </div>\n",
              "  </div>\n",
              "  "
            ]
          },
          "metadata": {},
          "execution_count": 33
        }
      ],
      "source": [
        "# read data\n",
        "df = pd.read_csv(datapath + \"time_series_covid19_confirmed_US.csv\")\n",
        "df.head()"
      ]
    },
    {
      "cell_type": "markdown",
      "metadata": {
        "id": "N0fa_EHbA72q"
      },
      "source": [
        "#### We select data for two states, Washington and Texas\n",
        "\n",
        "- If you want to select different states, modify this cell and rerun it. "
      ]
    },
    {
      "cell_type": "code",
      "execution_count": 34,
      "metadata": {
        "colab": {
          "base_uri": "https://localhost:8080/"
        },
        "id": "vsx2Xg_xA72r",
        "outputId": "e2562a40-ef06-4277-8e95-1064cdb97627"
      },
      "outputs": [
        {
          "output_type": "stream",
          "name": "stdout",
          "text": [
            "      1/22/20  1/23/20  1/24/20  1/25/20  1/26/20  1/27/20  1/28/20  1/29/20  \\\n",
            "3145        0        0        0        0        0        0        0        0   \n",
            "3146        0        0        0        0        0        0        0        0   \n",
            "3147        0        0        0        0        0        0        0        0   \n",
            "3148        0        0        0        0        0        0        0        0   \n",
            "3149        0        0        0        0        0        0        0        0   \n",
            "\n",
            "      1/30/20  1/31/20  ...  10/3/22  10/4/22  10/5/22  10/6/22  10/7/22  \\\n",
            "3145        0        0  ...     5524     5524     5525     5525     5528   \n",
            "3146        0        0  ...     5166     5166     5173     5173     5179   \n",
            "3147        0        0  ...    59729    59729    59775    59775    59815   \n",
            "3148        0        0  ...    23265    23265    23288    23288    23316   \n",
            "3149        0        0  ...    14795    14795    14811    14811    14832   \n",
            "\n",
            "      10/8/22  10/9/22  10/10/22  10/11/22  10/12/22  \n",
            "3145     5528     5528      5529      5529      5529  \n",
            "3146     5179     5179      5189      5189      5192  \n",
            "3147    59815    59815     59839     59839     59862  \n",
            "3148    23316    23316     23330     23330     23351  \n",
            "3149    14832    14832     14842     14842     14854  \n",
            "\n",
            "[5 rows x 995 columns]\n",
            "      1/22/20  1/23/20  1/24/20  1/25/20  1/26/20  1/27/20  1/28/20  1/29/20  \\\n",
            "2700        0        0        0        0        0        0        0        0   \n",
            "2701        0        0        0        0        0        0        0        0   \n",
            "2702        0        0        0        0        0        0        0        0   \n",
            "2703        0        0        0        0        0        0        0        0   \n",
            "2704        0        0        0        0        0        0        0        0   \n",
            "\n",
            "      1/30/20  1/31/20  ...  10/3/22  10/4/22  10/5/22  10/6/22  10/7/22  \\\n",
            "2700        0        0  ...    10577    10577    10580    10580    10588   \n",
            "2701        0        0  ...     4697     4697     4699     4699     4699   \n",
            "2702        0        0  ...    16577    16577    16580    16580    16591   \n",
            "2703        0        0  ...     5217     5217     5218     5218     5221   \n",
            "2704        0        0  ...     2509     2509     2511     2511     2513   \n",
            "\n",
            "      10/8/22  10/9/22  10/10/22  10/11/22  10/12/22  \n",
            "2700    10588    10588     10592     10592     10595  \n",
            "2701     4699     4699      4699      4699      4699  \n",
            "2702    16591    16591     16596     16596     16601  \n",
            "2703     5221     5221      5224      5224      5227  \n",
            "2704     2513     2513      2514      2514      2515  \n",
            "\n",
            "[5 rows x 995 columns]\n"
          ]
        },
        {
          "output_type": "execute_result",
          "data": {
            "text/plain": [
              "Index(['1/22/20', '1/23/20', '1/24/20', '1/25/20', '1/26/20', '1/27/20',\n",
              "       '1/28/20', '1/29/20', '1/30/20', '1/31/20',\n",
              "       ...\n",
              "       '10/3/22', '10/4/22', '10/5/22', '10/6/22', '10/7/22', '10/8/22',\n",
              "       '10/9/22', '10/10/22', '10/11/22', '10/12/22'],\n",
              "      dtype='object', length=995)"
            ]
          },
          "metadata": {},
          "execution_count": 34
        }
      ],
      "source": [
        "# Select the data for Washington and Texas\n",
        "st1 = df.loc[df[\"Province_State\"] == \"Washington\"]\n",
        "st2 = df.loc[df[\"Province_State\"] == \"Texas\"]\n",
        "\n",
        "# drop not-used columns \n",
        "drop_cols = ['UID', 'iso2', 'iso3', 'FIPS', 'Province_State', 'Country_Region', \n",
        "             'Lat', 'Long_', 'code3', 'Combined_Key', 'Admin2']\n",
        "\n",
        "st1 = st1.drop(columns=drop_cols)\n",
        "st2 = st2.drop(columns=drop_cols)\n",
        "\n",
        "print(st1.head())\n",
        "print(st2.head())\n",
        "\n",
        "st1.columns"
      ]
    },
    {
      "cell_type": "markdown",
      "metadata": {
        "id": "W8y60o4DA72r"
      },
      "source": [
        "### sum() function\n",
        "\n",
        "- see the examples:\n",
        "    \n",
        "https://pandas.pydata.org/pandas-docs/stable/reference/api/pandas.DataFrame.sum.html"
      ]
    },
    {
      "cell_type": "code",
      "execution_count": 35,
      "metadata": {
        "colab": {
          "base_uri": "https://localhost:8080/"
        },
        "id": "VsuRqQ0RA72s",
        "outputId": "414b3d8a-4908-41d0-838e-d1f09354ead7"
      },
      "outputs": [
        {
          "output_type": "stream",
          "name": "stdout",
          "text": [
            "10/8/22     1822544\n",
            "10/9/22     1822544\n",
            "10/10/22    1824499\n",
            "10/11/22    1824499\n",
            "10/12/22    1825852\n",
            "dtype: int64\n",
            "10/8/22     8010466\n",
            "10/9/22     8010466\n",
            "10/10/22    8014961\n",
            "10/11/22    8015459\n",
            "10/12/22    8019459\n",
            "dtype: int64\n"
          ]
        }
      ],
      "source": [
        "# sum of column data of rows \n",
        "# columns and rows will be changed\n",
        "# sum() function returns a Series\n",
        "cases_st1 = st1.sum(axis=0)\n",
        "cases_st2 = st2.sum(axis=0)\n",
        "\n",
        "print(cases_st1.tail())\n",
        "print(cases_st2.tail())"
      ]
    },
    {
      "cell_type": "code",
      "execution_count": 36,
      "metadata": {
        "colab": {
          "base_uri": "https://localhost:8080/"
        },
        "id": "TCoVym_nA72t",
        "outputId": "fdc4c69b-3353-407d-c22a-05548bc3b8ba"
      },
      "outputs": [
        {
          "output_type": "stream",
          "name": "stdout",
          "text": [
            "         WA_cases  TX_cases\n",
            "1/22/20         1         0\n",
            "1/23/20         1         0\n",
            "1/24/20         1         0\n",
            "1/25/20         1         0\n",
            "1/26/20         1         0\n",
            "          WA_cases  TX_cases\n",
            "10/8/22    1822544   8010466\n",
            "10/9/22    1822544   8010466\n",
            "10/10/22   1824499   8014961\n",
            "10/11/22   1824499   8015459\n",
            "10/12/22   1825852   8019459\n"
          ]
        }
      ],
      "source": [
        "# createa a DataFrame of two states' data\n",
        "dict_states = {'WA_cases': cases_st1, 'TX_cases': cases_st2}\n",
        "\n",
        "data = pd.DataFrame(dict_states)\n",
        "\n",
        "print(data.head())\n",
        "print(data.tail())"
      ]
    },
    {
      "cell_type": "code",
      "execution_count": 37,
      "metadata": {
        "colab": {
          "base_uri": "https://localhost:8080/",
          "height": 206
        },
        "id": "_ykKWEaEA72u",
        "outputId": "b30063be-fd54-4f93-829e-8fb32d957357"
      },
      "outputs": [
        {
          "output_type": "execute_result",
          "data": {
            "text/plain": [
              "     index  WA_cases  TX_cases\n",
              "0  1/22/20         1         0\n",
              "1  1/23/20         1         0\n",
              "2  1/24/20         1         0\n",
              "3  1/25/20         1         0\n",
              "4  1/26/20         1         0"
            ],
            "text/html": [
              "\n",
              "  <div id=\"df-1b90f6f4-ba2e-4805-beec-aaec4cde44f5\">\n",
              "    <div class=\"colab-df-container\">\n",
              "      <div>\n",
              "<style scoped>\n",
              "    .dataframe tbody tr th:only-of-type {\n",
              "        vertical-align: middle;\n",
              "    }\n",
              "\n",
              "    .dataframe tbody tr th {\n",
              "        vertical-align: top;\n",
              "    }\n",
              "\n",
              "    .dataframe thead th {\n",
              "        text-align: right;\n",
              "    }\n",
              "</style>\n",
              "<table border=\"1\" class=\"dataframe\">\n",
              "  <thead>\n",
              "    <tr style=\"text-align: right;\">\n",
              "      <th></th>\n",
              "      <th>index</th>\n",
              "      <th>WA_cases</th>\n",
              "      <th>TX_cases</th>\n",
              "    </tr>\n",
              "  </thead>\n",
              "  <tbody>\n",
              "    <tr>\n",
              "      <th>0</th>\n",
              "      <td>1/22/20</td>\n",
              "      <td>1</td>\n",
              "      <td>0</td>\n",
              "    </tr>\n",
              "    <tr>\n",
              "      <th>1</th>\n",
              "      <td>1/23/20</td>\n",
              "      <td>1</td>\n",
              "      <td>0</td>\n",
              "    </tr>\n",
              "    <tr>\n",
              "      <th>2</th>\n",
              "      <td>1/24/20</td>\n",
              "      <td>1</td>\n",
              "      <td>0</td>\n",
              "    </tr>\n",
              "    <tr>\n",
              "      <th>3</th>\n",
              "      <td>1/25/20</td>\n",
              "      <td>1</td>\n",
              "      <td>0</td>\n",
              "    </tr>\n",
              "    <tr>\n",
              "      <th>4</th>\n",
              "      <td>1/26/20</td>\n",
              "      <td>1</td>\n",
              "      <td>0</td>\n",
              "    </tr>\n",
              "  </tbody>\n",
              "</table>\n",
              "</div>\n",
              "      <button class=\"colab-df-convert\" onclick=\"convertToInteractive('df-1b90f6f4-ba2e-4805-beec-aaec4cde44f5')\"\n",
              "              title=\"Convert this dataframe to an interactive table.\"\n",
              "              style=\"display:none;\">\n",
              "        \n",
              "  <svg xmlns=\"http://www.w3.org/2000/svg\" height=\"24px\"viewBox=\"0 0 24 24\"\n",
              "       width=\"24px\">\n",
              "    <path d=\"M0 0h24v24H0V0z\" fill=\"none\"/>\n",
              "    <path d=\"M18.56 5.44l.94 2.06.94-2.06 2.06-.94-2.06-.94-.94-2.06-.94 2.06-2.06.94zm-11 1L8.5 8.5l.94-2.06 2.06-.94-2.06-.94L8.5 2.5l-.94 2.06-2.06.94zm10 10l.94 2.06.94-2.06 2.06-.94-2.06-.94-.94-2.06-.94 2.06-2.06.94z\"/><path d=\"M17.41 7.96l-1.37-1.37c-.4-.4-.92-.59-1.43-.59-.52 0-1.04.2-1.43.59L10.3 9.45l-7.72 7.72c-.78.78-.78 2.05 0 2.83L4 21.41c.39.39.9.59 1.41.59.51 0 1.02-.2 1.41-.59l7.78-7.78 2.81-2.81c.8-.78.8-2.07 0-2.86zM5.41 20L4 18.59l7.72-7.72 1.47 1.35L5.41 20z\"/>\n",
              "  </svg>\n",
              "      </button>\n",
              "      \n",
              "  <style>\n",
              "    .colab-df-container {\n",
              "      display:flex;\n",
              "      flex-wrap:wrap;\n",
              "      gap: 12px;\n",
              "    }\n",
              "\n",
              "    .colab-df-convert {\n",
              "      background-color: #E8F0FE;\n",
              "      border: none;\n",
              "      border-radius: 50%;\n",
              "      cursor: pointer;\n",
              "      display: none;\n",
              "      fill: #1967D2;\n",
              "      height: 32px;\n",
              "      padding: 0 0 0 0;\n",
              "      width: 32px;\n",
              "    }\n",
              "\n",
              "    .colab-df-convert:hover {\n",
              "      background-color: #E2EBFA;\n",
              "      box-shadow: 0px 1px 2px rgba(60, 64, 67, 0.3), 0px 1px 3px 1px rgba(60, 64, 67, 0.15);\n",
              "      fill: #174EA6;\n",
              "    }\n",
              "\n",
              "    [theme=dark] .colab-df-convert {\n",
              "      background-color: #3B4455;\n",
              "      fill: #D2E3FC;\n",
              "    }\n",
              "\n",
              "    [theme=dark] .colab-df-convert:hover {\n",
              "      background-color: #434B5C;\n",
              "      box-shadow: 0px 1px 3px 1px rgba(0, 0, 0, 0.15);\n",
              "      filter: drop-shadow(0px 1px 2px rgba(0, 0, 0, 0.3));\n",
              "      fill: #FFFFFF;\n",
              "    }\n",
              "  </style>\n",
              "\n",
              "      <script>\n",
              "        const buttonEl =\n",
              "          document.querySelector('#df-1b90f6f4-ba2e-4805-beec-aaec4cde44f5 button.colab-df-convert');\n",
              "        buttonEl.style.display =\n",
              "          google.colab.kernel.accessAllowed ? 'block' : 'none';\n",
              "\n",
              "        async function convertToInteractive(key) {\n",
              "          const element = document.querySelector('#df-1b90f6f4-ba2e-4805-beec-aaec4cde44f5');\n",
              "          const dataTable =\n",
              "            await google.colab.kernel.invokeFunction('convertToInteractive',\n",
              "                                                     [key], {});\n",
              "          if (!dataTable) return;\n",
              "\n",
              "          const docLinkHtml = 'Like what you see? Visit the ' +\n",
              "            '<a target=\"_blank\" href=https://colab.research.google.com/notebooks/data_table.ipynb>data table notebook</a>'\n",
              "            + ' to learn more about interactive tables.';\n",
              "          element.innerHTML = '';\n",
              "          dataTable['output_type'] = 'display_data';\n",
              "          await google.colab.output.renderOutput(dataTable, element);\n",
              "          const docLink = document.createElement('div');\n",
              "          docLink.innerHTML = docLinkHtml;\n",
              "          element.appendChild(docLink);\n",
              "        }\n",
              "      </script>\n",
              "    </div>\n",
              "  </div>\n",
              "  "
            ]
          },
          "metadata": {},
          "execution_count": 37
        }
      ],
      "source": [
        "# reset index (0, 1, 2, . . . ) --> adding number index\n",
        "data.reset_index(inplace=True)\n",
        "\n",
        "data.head()"
      ]
    },
    {
      "cell_type": "code",
      "execution_count": 38,
      "metadata": {
        "colab": {
          "base_uri": "https://localhost:8080/",
          "height": 206
        },
        "id": "AlQH2IMgA72v",
        "outputId": "10a15b91-256d-4866-f7af-8e0bcaa55f90"
      },
      "outputs": [
        {
          "output_type": "execute_result",
          "data": {
            "text/plain": [
              "     index  WA_cases  TX_cases  WA_daily  TX_daily\n",
              "0  1/22/20         1         0         0         0\n",
              "1  1/23/20         1         0         0         0\n",
              "2  1/24/20         1         0         0         0\n",
              "3  1/25/20         1         0         0         0\n",
              "4  1/26/20         1         0         0         0"
            ],
            "text/html": [
              "\n",
              "  <div id=\"df-1b6653ab-d6da-40f6-aea0-3834c3278252\">\n",
              "    <div class=\"colab-df-container\">\n",
              "      <div>\n",
              "<style scoped>\n",
              "    .dataframe tbody tr th:only-of-type {\n",
              "        vertical-align: middle;\n",
              "    }\n",
              "\n",
              "    .dataframe tbody tr th {\n",
              "        vertical-align: top;\n",
              "    }\n",
              "\n",
              "    .dataframe thead th {\n",
              "        text-align: right;\n",
              "    }\n",
              "</style>\n",
              "<table border=\"1\" class=\"dataframe\">\n",
              "  <thead>\n",
              "    <tr style=\"text-align: right;\">\n",
              "      <th></th>\n",
              "      <th>index</th>\n",
              "      <th>WA_cases</th>\n",
              "      <th>TX_cases</th>\n",
              "      <th>WA_daily</th>\n",
              "      <th>TX_daily</th>\n",
              "    </tr>\n",
              "  </thead>\n",
              "  <tbody>\n",
              "    <tr>\n",
              "      <th>0</th>\n",
              "      <td>1/22/20</td>\n",
              "      <td>1</td>\n",
              "      <td>0</td>\n",
              "      <td>0</td>\n",
              "      <td>0</td>\n",
              "    </tr>\n",
              "    <tr>\n",
              "      <th>1</th>\n",
              "      <td>1/23/20</td>\n",
              "      <td>1</td>\n",
              "      <td>0</td>\n",
              "      <td>0</td>\n",
              "      <td>0</td>\n",
              "    </tr>\n",
              "    <tr>\n",
              "      <th>2</th>\n",
              "      <td>1/24/20</td>\n",
              "      <td>1</td>\n",
              "      <td>0</td>\n",
              "      <td>0</td>\n",
              "      <td>0</td>\n",
              "    </tr>\n",
              "    <tr>\n",
              "      <th>3</th>\n",
              "      <td>1/25/20</td>\n",
              "      <td>1</td>\n",
              "      <td>0</td>\n",
              "      <td>0</td>\n",
              "      <td>0</td>\n",
              "    </tr>\n",
              "    <tr>\n",
              "      <th>4</th>\n",
              "      <td>1/26/20</td>\n",
              "      <td>1</td>\n",
              "      <td>0</td>\n",
              "      <td>0</td>\n",
              "      <td>0</td>\n",
              "    </tr>\n",
              "  </tbody>\n",
              "</table>\n",
              "</div>\n",
              "      <button class=\"colab-df-convert\" onclick=\"convertToInteractive('df-1b6653ab-d6da-40f6-aea0-3834c3278252')\"\n",
              "              title=\"Convert this dataframe to an interactive table.\"\n",
              "              style=\"display:none;\">\n",
              "        \n",
              "  <svg xmlns=\"http://www.w3.org/2000/svg\" height=\"24px\"viewBox=\"0 0 24 24\"\n",
              "       width=\"24px\">\n",
              "    <path d=\"M0 0h24v24H0V0z\" fill=\"none\"/>\n",
              "    <path d=\"M18.56 5.44l.94 2.06.94-2.06 2.06-.94-2.06-.94-.94-2.06-.94 2.06-2.06.94zm-11 1L8.5 8.5l.94-2.06 2.06-.94-2.06-.94L8.5 2.5l-.94 2.06-2.06.94zm10 10l.94 2.06.94-2.06 2.06-.94-2.06-.94-.94-2.06-.94 2.06-2.06.94z\"/><path d=\"M17.41 7.96l-1.37-1.37c-.4-.4-.92-.59-1.43-.59-.52 0-1.04.2-1.43.59L10.3 9.45l-7.72 7.72c-.78.78-.78 2.05 0 2.83L4 21.41c.39.39.9.59 1.41.59.51 0 1.02-.2 1.41-.59l7.78-7.78 2.81-2.81c.8-.78.8-2.07 0-2.86zM5.41 20L4 18.59l7.72-7.72 1.47 1.35L5.41 20z\"/>\n",
              "  </svg>\n",
              "      </button>\n",
              "      \n",
              "  <style>\n",
              "    .colab-df-container {\n",
              "      display:flex;\n",
              "      flex-wrap:wrap;\n",
              "      gap: 12px;\n",
              "    }\n",
              "\n",
              "    .colab-df-convert {\n",
              "      background-color: #E8F0FE;\n",
              "      border: none;\n",
              "      border-radius: 50%;\n",
              "      cursor: pointer;\n",
              "      display: none;\n",
              "      fill: #1967D2;\n",
              "      height: 32px;\n",
              "      padding: 0 0 0 0;\n",
              "      width: 32px;\n",
              "    }\n",
              "\n",
              "    .colab-df-convert:hover {\n",
              "      background-color: #E2EBFA;\n",
              "      box-shadow: 0px 1px 2px rgba(60, 64, 67, 0.3), 0px 1px 3px 1px rgba(60, 64, 67, 0.15);\n",
              "      fill: #174EA6;\n",
              "    }\n",
              "\n",
              "    [theme=dark] .colab-df-convert {\n",
              "      background-color: #3B4455;\n",
              "      fill: #D2E3FC;\n",
              "    }\n",
              "\n",
              "    [theme=dark] .colab-df-convert:hover {\n",
              "      background-color: #434B5C;\n",
              "      box-shadow: 0px 1px 3px 1px rgba(0, 0, 0, 0.15);\n",
              "      filter: drop-shadow(0px 1px 2px rgba(0, 0, 0, 0.3));\n",
              "      fill: #FFFFFF;\n",
              "    }\n",
              "  </style>\n",
              "\n",
              "      <script>\n",
              "        const buttonEl =\n",
              "          document.querySelector('#df-1b6653ab-d6da-40f6-aea0-3834c3278252 button.colab-df-convert');\n",
              "        buttonEl.style.display =\n",
              "          google.colab.kernel.accessAllowed ? 'block' : 'none';\n",
              "\n",
              "        async function convertToInteractive(key) {\n",
              "          const element = document.querySelector('#df-1b6653ab-d6da-40f6-aea0-3834c3278252');\n",
              "          const dataTable =\n",
              "            await google.colab.kernel.invokeFunction('convertToInteractive',\n",
              "                                                     [key], {});\n",
              "          if (!dataTable) return;\n",
              "\n",
              "          const docLinkHtml = 'Like what you see? Visit the ' +\n",
              "            '<a target=\"_blank\" href=https://colab.research.google.com/notebooks/data_table.ipynb>data table notebook</a>'\n",
              "            + ' to learn more about interactive tables.';\n",
              "          element.innerHTML = '';\n",
              "          dataTable['output_type'] = 'display_data';\n",
              "          await google.colab.output.renderOutput(dataTable, element);\n",
              "          const docLink = document.createElement('div');\n",
              "          docLink.innerHTML = docLinkHtml;\n",
              "          element.appendChild(docLink);\n",
              "        }\n",
              "      </script>\n",
              "    </div>\n",
              "  </div>\n",
              "  "
            ]
          },
          "metadata": {},
          "execution_count": 38
        }
      ],
      "source": [
        "# add two new columns and set default values\n",
        "\n",
        "data['WA_daily'] = 0\n",
        "data['TX_daily'] = 0\n",
        "\n",
        "data.head()"
      ]
    },
    {
      "cell_type": "code",
      "execution_count": 39,
      "metadata": {
        "colab": {
          "base_uri": "https://localhost:8080/",
          "height": 206
        },
        "id": "-1vRViMMA72v",
        "outputId": "128f6a1c-d0dd-4491-e6ea-2636af63cbbb"
      },
      "outputs": [
        {
          "output_type": "execute_result",
          "data": {
            "text/plain": [
              "        index  WA_cases  TX_cases  WA_daily  TX_daily\n",
              "990   10/8/22   1822544   8010466         0         0\n",
              "991   10/9/22   1822544   8010466         0         0\n",
              "992  10/10/22   1824499   8014961      1955      4495\n",
              "993  10/11/22   1824499   8015459         0       498\n",
              "994  10/12/22   1825852   8019459      1353      4000"
            ],
            "text/html": [
              "\n",
              "  <div id=\"df-7b1a5083-60e8-4904-adee-c8274e17b9d1\">\n",
              "    <div class=\"colab-df-container\">\n",
              "      <div>\n",
              "<style scoped>\n",
              "    .dataframe tbody tr th:only-of-type {\n",
              "        vertical-align: middle;\n",
              "    }\n",
              "\n",
              "    .dataframe tbody tr th {\n",
              "        vertical-align: top;\n",
              "    }\n",
              "\n",
              "    .dataframe thead th {\n",
              "        text-align: right;\n",
              "    }\n",
              "</style>\n",
              "<table border=\"1\" class=\"dataframe\">\n",
              "  <thead>\n",
              "    <tr style=\"text-align: right;\">\n",
              "      <th></th>\n",
              "      <th>index</th>\n",
              "      <th>WA_cases</th>\n",
              "      <th>TX_cases</th>\n",
              "      <th>WA_daily</th>\n",
              "      <th>TX_daily</th>\n",
              "    </tr>\n",
              "  </thead>\n",
              "  <tbody>\n",
              "    <tr>\n",
              "      <th>990</th>\n",
              "      <td>10/8/22</td>\n",
              "      <td>1822544</td>\n",
              "      <td>8010466</td>\n",
              "      <td>0</td>\n",
              "      <td>0</td>\n",
              "    </tr>\n",
              "    <tr>\n",
              "      <th>991</th>\n",
              "      <td>10/9/22</td>\n",
              "      <td>1822544</td>\n",
              "      <td>8010466</td>\n",
              "      <td>0</td>\n",
              "      <td>0</td>\n",
              "    </tr>\n",
              "    <tr>\n",
              "      <th>992</th>\n",
              "      <td>10/10/22</td>\n",
              "      <td>1824499</td>\n",
              "      <td>8014961</td>\n",
              "      <td>1955</td>\n",
              "      <td>4495</td>\n",
              "    </tr>\n",
              "    <tr>\n",
              "      <th>993</th>\n",
              "      <td>10/11/22</td>\n",
              "      <td>1824499</td>\n",
              "      <td>8015459</td>\n",
              "      <td>0</td>\n",
              "      <td>498</td>\n",
              "    </tr>\n",
              "    <tr>\n",
              "      <th>994</th>\n",
              "      <td>10/12/22</td>\n",
              "      <td>1825852</td>\n",
              "      <td>8019459</td>\n",
              "      <td>1353</td>\n",
              "      <td>4000</td>\n",
              "    </tr>\n",
              "  </tbody>\n",
              "</table>\n",
              "</div>\n",
              "      <button class=\"colab-df-convert\" onclick=\"convertToInteractive('df-7b1a5083-60e8-4904-adee-c8274e17b9d1')\"\n",
              "              title=\"Convert this dataframe to an interactive table.\"\n",
              "              style=\"display:none;\">\n",
              "        \n",
              "  <svg xmlns=\"http://www.w3.org/2000/svg\" height=\"24px\"viewBox=\"0 0 24 24\"\n",
              "       width=\"24px\">\n",
              "    <path d=\"M0 0h24v24H0V0z\" fill=\"none\"/>\n",
              "    <path d=\"M18.56 5.44l.94 2.06.94-2.06 2.06-.94-2.06-.94-.94-2.06-.94 2.06-2.06.94zm-11 1L8.5 8.5l.94-2.06 2.06-.94-2.06-.94L8.5 2.5l-.94 2.06-2.06.94zm10 10l.94 2.06.94-2.06 2.06-.94-2.06-.94-.94-2.06-.94 2.06-2.06.94z\"/><path d=\"M17.41 7.96l-1.37-1.37c-.4-.4-.92-.59-1.43-.59-.52 0-1.04.2-1.43.59L10.3 9.45l-7.72 7.72c-.78.78-.78 2.05 0 2.83L4 21.41c.39.39.9.59 1.41.59.51 0 1.02-.2 1.41-.59l7.78-7.78 2.81-2.81c.8-.78.8-2.07 0-2.86zM5.41 20L4 18.59l7.72-7.72 1.47 1.35L5.41 20z\"/>\n",
              "  </svg>\n",
              "      </button>\n",
              "      \n",
              "  <style>\n",
              "    .colab-df-container {\n",
              "      display:flex;\n",
              "      flex-wrap:wrap;\n",
              "      gap: 12px;\n",
              "    }\n",
              "\n",
              "    .colab-df-convert {\n",
              "      background-color: #E8F0FE;\n",
              "      border: none;\n",
              "      border-radius: 50%;\n",
              "      cursor: pointer;\n",
              "      display: none;\n",
              "      fill: #1967D2;\n",
              "      height: 32px;\n",
              "      padding: 0 0 0 0;\n",
              "      width: 32px;\n",
              "    }\n",
              "\n",
              "    .colab-df-convert:hover {\n",
              "      background-color: #E2EBFA;\n",
              "      box-shadow: 0px 1px 2px rgba(60, 64, 67, 0.3), 0px 1px 3px 1px rgba(60, 64, 67, 0.15);\n",
              "      fill: #174EA6;\n",
              "    }\n",
              "\n",
              "    [theme=dark] .colab-df-convert {\n",
              "      background-color: #3B4455;\n",
              "      fill: #D2E3FC;\n",
              "    }\n",
              "\n",
              "    [theme=dark] .colab-df-convert:hover {\n",
              "      background-color: #434B5C;\n",
              "      box-shadow: 0px 1px 3px 1px rgba(0, 0, 0, 0.15);\n",
              "      filter: drop-shadow(0px 1px 2px rgba(0, 0, 0, 0.3));\n",
              "      fill: #FFFFFF;\n",
              "    }\n",
              "  </style>\n",
              "\n",
              "      <script>\n",
              "        const buttonEl =\n",
              "          document.querySelector('#df-7b1a5083-60e8-4904-adee-c8274e17b9d1 button.colab-df-convert');\n",
              "        buttonEl.style.display =\n",
              "          google.colab.kernel.accessAllowed ? 'block' : 'none';\n",
              "\n",
              "        async function convertToInteractive(key) {\n",
              "          const element = document.querySelector('#df-7b1a5083-60e8-4904-adee-c8274e17b9d1');\n",
              "          const dataTable =\n",
              "            await google.colab.kernel.invokeFunction('convertToInteractive',\n",
              "                                                     [key], {});\n",
              "          if (!dataTable) return;\n",
              "\n",
              "          const docLinkHtml = 'Like what you see? Visit the ' +\n",
              "            '<a target=\"_blank\" href=https://colab.research.google.com/notebooks/data_table.ipynb>data table notebook</a>'\n",
              "            + ' to learn more about interactive tables.';\n",
              "          element.innerHTML = '';\n",
              "          dataTable['output_type'] = 'display_data';\n",
              "          await google.colab.output.renderOutput(dataTable, element);\n",
              "          const docLink = document.createElement('div');\n",
              "          docLink.innerHTML = docLinkHtml;\n",
              "          element.appendChild(docLink);\n",
              "        }\n",
              "      </script>\n",
              "    </div>\n",
              "  </div>\n",
              "  "
            ]
          },
          "metadata": {},
          "execution_count": 39
        }
      ],
      "source": [
        "# calculate daily cases and assign the values\n",
        "\n",
        "for index, row in data.iterrows():\n",
        "    if index==0:\n",
        "        data.loc[index, 'WA_daily'] = data.loc[index, 'WA_cases'] \n",
        "        data.loc[index, 'TX_daily'] = data.loc[index, 'TX_cases'] \n",
        "    else:\n",
        "        data.loc[index, 'WA_daily'] = data.loc[index, 'WA_cases'] - data.loc[index-1, 'WA_cases'] \n",
        "        data.loc[index, 'TX_daily'] = data.loc[index, 'TX_cases'] - data.loc[index-1, 'TX_cases'] \n",
        "\n",
        "    # data clearning (drop error values)\n",
        "    if data.loc[index, 'WA_daily'] < 0:\n",
        "        data.loc[index, 'WA_daily'] = 0\n",
        "    if data.loc[index, 'TX_daily'] < 0:\n",
        "        data.loc[index, 'TX_daily'] = 0\n",
        "\n",
        "data.tail()"
      ]
    },
    {
      "cell_type": "code",
      "execution_count": 40,
      "metadata": {
        "colab": {
          "base_uri": "https://localhost:8080/",
          "height": 206
        },
        "id": "ubxyJRTRA72w",
        "outputId": "9ed031eb-2792-4768-910c-26d6b5013efc"
      },
      "outputs": [
        {
          "output_type": "execute_result",
          "data": {
            "text/plain": [
              "     index  WA_cases  TX_cases  WA_daily  TX_daily  day_number\n",
              "0  1/22/20         1         0         1         0           0\n",
              "1  1/23/20         1         0         0         0           1\n",
              "2  1/24/20         1         0         0         0           2\n",
              "3  1/25/20         1         0         0         0           3\n",
              "4  1/26/20         1         0         0         0           4"
            ],
            "text/html": [
              "\n",
              "  <div id=\"df-6e4d5e5a-2b40-4101-8318-644588389c54\">\n",
              "    <div class=\"colab-df-container\">\n",
              "      <div>\n",
              "<style scoped>\n",
              "    .dataframe tbody tr th:only-of-type {\n",
              "        vertical-align: middle;\n",
              "    }\n",
              "\n",
              "    .dataframe tbody tr th {\n",
              "        vertical-align: top;\n",
              "    }\n",
              "\n",
              "    .dataframe thead th {\n",
              "        text-align: right;\n",
              "    }\n",
              "</style>\n",
              "<table border=\"1\" class=\"dataframe\">\n",
              "  <thead>\n",
              "    <tr style=\"text-align: right;\">\n",
              "      <th></th>\n",
              "      <th>index</th>\n",
              "      <th>WA_cases</th>\n",
              "      <th>TX_cases</th>\n",
              "      <th>WA_daily</th>\n",
              "      <th>TX_daily</th>\n",
              "      <th>day_number</th>\n",
              "    </tr>\n",
              "  </thead>\n",
              "  <tbody>\n",
              "    <tr>\n",
              "      <th>0</th>\n",
              "      <td>1/22/20</td>\n",
              "      <td>1</td>\n",
              "      <td>0</td>\n",
              "      <td>1</td>\n",
              "      <td>0</td>\n",
              "      <td>0</td>\n",
              "    </tr>\n",
              "    <tr>\n",
              "      <th>1</th>\n",
              "      <td>1/23/20</td>\n",
              "      <td>1</td>\n",
              "      <td>0</td>\n",
              "      <td>0</td>\n",
              "      <td>0</td>\n",
              "      <td>1</td>\n",
              "    </tr>\n",
              "    <tr>\n",
              "      <th>2</th>\n",
              "      <td>1/24/20</td>\n",
              "      <td>1</td>\n",
              "      <td>0</td>\n",
              "      <td>0</td>\n",
              "      <td>0</td>\n",
              "      <td>2</td>\n",
              "    </tr>\n",
              "    <tr>\n",
              "      <th>3</th>\n",
              "      <td>1/25/20</td>\n",
              "      <td>1</td>\n",
              "      <td>0</td>\n",
              "      <td>0</td>\n",
              "      <td>0</td>\n",
              "      <td>3</td>\n",
              "    </tr>\n",
              "    <tr>\n",
              "      <th>4</th>\n",
              "      <td>1/26/20</td>\n",
              "      <td>1</td>\n",
              "      <td>0</td>\n",
              "      <td>0</td>\n",
              "      <td>0</td>\n",
              "      <td>4</td>\n",
              "    </tr>\n",
              "  </tbody>\n",
              "</table>\n",
              "</div>\n",
              "      <button class=\"colab-df-convert\" onclick=\"convertToInteractive('df-6e4d5e5a-2b40-4101-8318-644588389c54')\"\n",
              "              title=\"Convert this dataframe to an interactive table.\"\n",
              "              style=\"display:none;\">\n",
              "        \n",
              "  <svg xmlns=\"http://www.w3.org/2000/svg\" height=\"24px\"viewBox=\"0 0 24 24\"\n",
              "       width=\"24px\">\n",
              "    <path d=\"M0 0h24v24H0V0z\" fill=\"none\"/>\n",
              "    <path d=\"M18.56 5.44l.94 2.06.94-2.06 2.06-.94-2.06-.94-.94-2.06-.94 2.06-2.06.94zm-11 1L8.5 8.5l.94-2.06 2.06-.94-2.06-.94L8.5 2.5l-.94 2.06-2.06.94zm10 10l.94 2.06.94-2.06 2.06-.94-2.06-.94-.94-2.06-.94 2.06-2.06.94z\"/><path d=\"M17.41 7.96l-1.37-1.37c-.4-.4-.92-.59-1.43-.59-.52 0-1.04.2-1.43.59L10.3 9.45l-7.72 7.72c-.78.78-.78 2.05 0 2.83L4 21.41c.39.39.9.59 1.41.59.51 0 1.02-.2 1.41-.59l7.78-7.78 2.81-2.81c.8-.78.8-2.07 0-2.86zM5.41 20L4 18.59l7.72-7.72 1.47 1.35L5.41 20z\"/>\n",
              "  </svg>\n",
              "      </button>\n",
              "      \n",
              "  <style>\n",
              "    .colab-df-container {\n",
              "      display:flex;\n",
              "      flex-wrap:wrap;\n",
              "      gap: 12px;\n",
              "    }\n",
              "\n",
              "    .colab-df-convert {\n",
              "      background-color: #E8F0FE;\n",
              "      border: none;\n",
              "      border-radius: 50%;\n",
              "      cursor: pointer;\n",
              "      display: none;\n",
              "      fill: #1967D2;\n",
              "      height: 32px;\n",
              "      padding: 0 0 0 0;\n",
              "      width: 32px;\n",
              "    }\n",
              "\n",
              "    .colab-df-convert:hover {\n",
              "      background-color: #E2EBFA;\n",
              "      box-shadow: 0px 1px 2px rgba(60, 64, 67, 0.3), 0px 1px 3px 1px rgba(60, 64, 67, 0.15);\n",
              "      fill: #174EA6;\n",
              "    }\n",
              "\n",
              "    [theme=dark] .colab-df-convert {\n",
              "      background-color: #3B4455;\n",
              "      fill: #D2E3FC;\n",
              "    }\n",
              "\n",
              "    [theme=dark] .colab-df-convert:hover {\n",
              "      background-color: #434B5C;\n",
              "      box-shadow: 0px 1px 3px 1px rgba(0, 0, 0, 0.15);\n",
              "      filter: drop-shadow(0px 1px 2px rgba(0, 0, 0, 0.3));\n",
              "      fill: #FFFFFF;\n",
              "    }\n",
              "  </style>\n",
              "\n",
              "      <script>\n",
              "        const buttonEl =\n",
              "          document.querySelector('#df-6e4d5e5a-2b40-4101-8318-644588389c54 button.colab-df-convert');\n",
              "        buttonEl.style.display =\n",
              "          google.colab.kernel.accessAllowed ? 'block' : 'none';\n",
              "\n",
              "        async function convertToInteractive(key) {\n",
              "          const element = document.querySelector('#df-6e4d5e5a-2b40-4101-8318-644588389c54');\n",
              "          const dataTable =\n",
              "            await google.colab.kernel.invokeFunction('convertToInteractive',\n",
              "                                                     [key], {});\n",
              "          if (!dataTable) return;\n",
              "\n",
              "          const docLinkHtml = 'Like what you see? Visit the ' +\n",
              "            '<a target=\"_blank\" href=https://colab.research.google.com/notebooks/data_table.ipynb>data table notebook</a>'\n",
              "            + ' to learn more about interactive tables.';\n",
              "          element.innerHTML = '';\n",
              "          dataTable['output_type'] = 'display_data';\n",
              "          await google.colab.output.renderOutput(dataTable, element);\n",
              "          const docLink = document.createElement('div');\n",
              "          docLink.innerHTML = docLinkHtml;\n",
              "          element.appendChild(docLink);\n",
              "        }\n",
              "      </script>\n",
              "    </div>\n",
              "  </div>\n",
              "  "
            ]
          },
          "metadata": {},
          "execution_count": 40
        }
      ],
      "source": [
        "# add a new column for the number of days\n",
        "data['day_number'] = data.index\n",
        "\n",
        "data.head()"
      ]
    },
    {
      "cell_type": "markdown",
      "metadata": {
        "id": "sqeIxoGxA72x"
      },
      "source": [
        "## Part 1\n",
        "\n",
        "### Tasks\n",
        "\n",
        "1. (Optional) Select states you are interested in from the COVID-19 data repository. The above cells contain the data for Washington and Texas. Hence if you would like to change states, you will update the above cells and rerun them. \n",
        "\n",
        "2. Conduct exploratory data analysis on the selected data and visualize the data. This may include the following:\n",
        "\n",
        "(1) Descriptive statistics: mean, median and standard deviation, mininum, maximum and quatiles.\n",
        "\n",
        "(2) Draw boxplots.\n",
        "\n",
        "(3) Draw histograms.\n",
        "\n",
        "(4) Draw scatter plots and calculate correlation coefficient factor r\n",
        "    \n",
        "    - Given an explanatory variable x (e.g., day_number), you display a response variable y (e.g., TX_cases). \n",
        "\n",
        "\n",
        "(5) Choose one tool that has not be used here and apply it on these COVID-19 data. "
      ]
    },
    {
      "cell_type": "markdown",
      "metadata": {
        "id": "tWCj9ZqaA72y"
      },
      "source": [
        "#### Task (1)"
      ]
    },
    {
      "cell_type": "code",
      "execution_count": 41,
      "metadata": {
        "colab": {
          "base_uri": "https://localhost:8080/",
          "height": 300
        },
        "id": "QcTuZHyVA72y",
        "outputId": "4041d0b6-fc62-48e7-db47-c56ed067e8a0"
      },
      "outputs": [
        {
          "output_type": "execute_result",
          "data": {
            "text/plain": [
              "           WA_cases      TX_cases      WA_daily      TX_daily  day_number\n",
              "count  9.950000e+02  9.950000e+02    995.000000    995.000000   995.00000\n",
              "mean   6.501309e+05  3.377406e+06   1839.137688   8069.696482   497.00000\n",
              "std    6.194424e+05  2.670163e+06   4727.049763  10779.801100   287.37606\n",
              "min    1.000000e+00  0.000000e+00      0.000000      0.000000     0.00000\n",
              "25%    8.770800e+04  7.697115e+05      0.000000   1646.500000   248.50000\n",
              "50%    4.376770e+05  2.998379e+06    566.000000   4656.000000   497.00000\n",
              "75%    1.367763e+06  6.408314e+06   1938.500000  10354.000000   745.50000\n",
              "max    1.825852e+06  8.019459e+06  64166.000000  88257.000000   994.00000"
            ],
            "text/html": [
              "\n",
              "  <div id=\"df-6c7f0355-040b-40b4-b286-29559d24c99a\">\n",
              "    <div class=\"colab-df-container\">\n",
              "      <div>\n",
              "<style scoped>\n",
              "    .dataframe tbody tr th:only-of-type {\n",
              "        vertical-align: middle;\n",
              "    }\n",
              "\n",
              "    .dataframe tbody tr th {\n",
              "        vertical-align: top;\n",
              "    }\n",
              "\n",
              "    .dataframe thead th {\n",
              "        text-align: right;\n",
              "    }\n",
              "</style>\n",
              "<table border=\"1\" class=\"dataframe\">\n",
              "  <thead>\n",
              "    <tr style=\"text-align: right;\">\n",
              "      <th></th>\n",
              "      <th>WA_cases</th>\n",
              "      <th>TX_cases</th>\n",
              "      <th>WA_daily</th>\n",
              "      <th>TX_daily</th>\n",
              "      <th>day_number</th>\n",
              "    </tr>\n",
              "  </thead>\n",
              "  <tbody>\n",
              "    <tr>\n",
              "      <th>count</th>\n",
              "      <td>9.950000e+02</td>\n",
              "      <td>9.950000e+02</td>\n",
              "      <td>995.000000</td>\n",
              "      <td>995.000000</td>\n",
              "      <td>995.00000</td>\n",
              "    </tr>\n",
              "    <tr>\n",
              "      <th>mean</th>\n",
              "      <td>6.501309e+05</td>\n",
              "      <td>3.377406e+06</td>\n",
              "      <td>1839.137688</td>\n",
              "      <td>8069.696482</td>\n",
              "      <td>497.00000</td>\n",
              "    </tr>\n",
              "    <tr>\n",
              "      <th>std</th>\n",
              "      <td>6.194424e+05</td>\n",
              "      <td>2.670163e+06</td>\n",
              "      <td>4727.049763</td>\n",
              "      <td>10779.801100</td>\n",
              "      <td>287.37606</td>\n",
              "    </tr>\n",
              "    <tr>\n",
              "      <th>min</th>\n",
              "      <td>1.000000e+00</td>\n",
              "      <td>0.000000e+00</td>\n",
              "      <td>0.000000</td>\n",
              "      <td>0.000000</td>\n",
              "      <td>0.00000</td>\n",
              "    </tr>\n",
              "    <tr>\n",
              "      <th>25%</th>\n",
              "      <td>8.770800e+04</td>\n",
              "      <td>7.697115e+05</td>\n",
              "      <td>0.000000</td>\n",
              "      <td>1646.500000</td>\n",
              "      <td>248.50000</td>\n",
              "    </tr>\n",
              "    <tr>\n",
              "      <th>50%</th>\n",
              "      <td>4.376770e+05</td>\n",
              "      <td>2.998379e+06</td>\n",
              "      <td>566.000000</td>\n",
              "      <td>4656.000000</td>\n",
              "      <td>497.00000</td>\n",
              "    </tr>\n",
              "    <tr>\n",
              "      <th>75%</th>\n",
              "      <td>1.367763e+06</td>\n",
              "      <td>6.408314e+06</td>\n",
              "      <td>1938.500000</td>\n",
              "      <td>10354.000000</td>\n",
              "      <td>745.50000</td>\n",
              "    </tr>\n",
              "    <tr>\n",
              "      <th>max</th>\n",
              "      <td>1.825852e+06</td>\n",
              "      <td>8.019459e+06</td>\n",
              "      <td>64166.000000</td>\n",
              "      <td>88257.000000</td>\n",
              "      <td>994.00000</td>\n",
              "    </tr>\n",
              "  </tbody>\n",
              "</table>\n",
              "</div>\n",
              "      <button class=\"colab-df-convert\" onclick=\"convertToInteractive('df-6c7f0355-040b-40b4-b286-29559d24c99a')\"\n",
              "              title=\"Convert this dataframe to an interactive table.\"\n",
              "              style=\"display:none;\">\n",
              "        \n",
              "  <svg xmlns=\"http://www.w3.org/2000/svg\" height=\"24px\"viewBox=\"0 0 24 24\"\n",
              "       width=\"24px\">\n",
              "    <path d=\"M0 0h24v24H0V0z\" fill=\"none\"/>\n",
              "    <path d=\"M18.56 5.44l.94 2.06.94-2.06 2.06-.94-2.06-.94-.94-2.06-.94 2.06-2.06.94zm-11 1L8.5 8.5l.94-2.06 2.06-.94-2.06-.94L8.5 2.5l-.94 2.06-2.06.94zm10 10l.94 2.06.94-2.06 2.06-.94-2.06-.94-.94-2.06-.94 2.06-2.06.94z\"/><path d=\"M17.41 7.96l-1.37-1.37c-.4-.4-.92-.59-1.43-.59-.52 0-1.04.2-1.43.59L10.3 9.45l-7.72 7.72c-.78.78-.78 2.05 0 2.83L4 21.41c.39.39.9.59 1.41.59.51 0 1.02-.2 1.41-.59l7.78-7.78 2.81-2.81c.8-.78.8-2.07 0-2.86zM5.41 20L4 18.59l7.72-7.72 1.47 1.35L5.41 20z\"/>\n",
              "  </svg>\n",
              "      </button>\n",
              "      \n",
              "  <style>\n",
              "    .colab-df-container {\n",
              "      display:flex;\n",
              "      flex-wrap:wrap;\n",
              "      gap: 12px;\n",
              "    }\n",
              "\n",
              "    .colab-df-convert {\n",
              "      background-color: #E8F0FE;\n",
              "      border: none;\n",
              "      border-radius: 50%;\n",
              "      cursor: pointer;\n",
              "      display: none;\n",
              "      fill: #1967D2;\n",
              "      height: 32px;\n",
              "      padding: 0 0 0 0;\n",
              "      width: 32px;\n",
              "    }\n",
              "\n",
              "    .colab-df-convert:hover {\n",
              "      background-color: #E2EBFA;\n",
              "      box-shadow: 0px 1px 2px rgba(60, 64, 67, 0.3), 0px 1px 3px 1px rgba(60, 64, 67, 0.15);\n",
              "      fill: #174EA6;\n",
              "    }\n",
              "\n",
              "    [theme=dark] .colab-df-convert {\n",
              "      background-color: #3B4455;\n",
              "      fill: #D2E3FC;\n",
              "    }\n",
              "\n",
              "    [theme=dark] .colab-df-convert:hover {\n",
              "      background-color: #434B5C;\n",
              "      box-shadow: 0px 1px 3px 1px rgba(0, 0, 0, 0.15);\n",
              "      filter: drop-shadow(0px 1px 2px rgba(0, 0, 0, 0.3));\n",
              "      fill: #FFFFFF;\n",
              "    }\n",
              "  </style>\n",
              "\n",
              "      <script>\n",
              "        const buttonEl =\n",
              "          document.querySelector('#df-6c7f0355-040b-40b4-b286-29559d24c99a button.colab-df-convert');\n",
              "        buttonEl.style.display =\n",
              "          google.colab.kernel.accessAllowed ? 'block' : 'none';\n",
              "\n",
              "        async function convertToInteractive(key) {\n",
              "          const element = document.querySelector('#df-6c7f0355-040b-40b4-b286-29559d24c99a');\n",
              "          const dataTable =\n",
              "            await google.colab.kernel.invokeFunction('convertToInteractive',\n",
              "                                                     [key], {});\n",
              "          if (!dataTable) return;\n",
              "\n",
              "          const docLinkHtml = 'Like what you see? Visit the ' +\n",
              "            '<a target=\"_blank\" href=https://colab.research.google.com/notebooks/data_table.ipynb>data table notebook</a>'\n",
              "            + ' to learn more about interactive tables.';\n",
              "          element.innerHTML = '';\n",
              "          dataTable['output_type'] = 'display_data';\n",
              "          await google.colab.output.renderOutput(dataTable, element);\n",
              "          const docLink = document.createElement('div');\n",
              "          docLink.innerHTML = docLinkHtml;\n",
              "          element.appendChild(docLink);\n",
              "        }\n",
              "      </script>\n",
              "    </div>\n",
              "  </div>\n",
              "  "
            ]
          },
          "metadata": {},
          "execution_count": 41
        }
      ],
      "source": [
        "data.describe()"
      ]
    },
    {
      "cell_type": "markdown",
      "metadata": {
        "id": "8PoWMw5LA72y"
      },
      "source": [
        "#### Task (2)"
      ]
    },
    {
      "cell_type": "code",
      "execution_count": 42,
      "metadata": {
        "colab": {
          "base_uri": "https://localhost:8080/",
          "height": 555
        },
        "id": "MMvdPKciA72y",
        "outputId": "1a1eeb31-2053-4e59-c517-ffa9439d5556"
      },
      "outputs": [
        {
          "output_type": "execute_result",
          "data": {
            "text/plain": [
              "<matplotlib.axes._subplots.AxesSubplot at 0x7f0e8d74ba90>"
            ]
          },
          "metadata": {},
          "execution_count": 42
        },
        {
          "output_type": "display_data",
          "data": {
            "text/plain": [
              "<Figure size 432x288 with 1 Axes>"
            ],
            "image/png": "[encoded data removed]"
          },
          "metadata": {
            "needs_background": "light"
          }
        },
        {
          "output_type": "display_data",
          "data": {
            "text/plain": [
              "<Figure size 432x288 with 1 Axes>"
            ],
            "image/png": "[encoded data removed]"
          },
          "metadata": {
            "needs_background": "light"
          }
        }
      ],
      "source": [
        "data.plot.box(x=\"day_number\",y=\"TX_cases\")\n",
        "data.plot.box(x=\"day_number\",y=\"WA_cases\")"
      ]
    },
    {
      "cell_type": "markdown",
      "metadata": {
        "id": "yxX3ARnxA72z"
      },
      "source": [
        "#### Task (3)"
      ]
    },
    {
      "cell_type": "code",
      "execution_count": 43,
      "metadata": {
        "colab": {
          "base_uri": "https://localhost:8080/",
          "height": 557
        },
        "id": "gM3eTzq2A72z",
        "outputId": "4fa55a8a-9aa3-4a19-aac2-147ec030ca93"
      },
      "outputs": [
        {
          "output_type": "execute_result",
          "data": {
            "text/plain": [
              "<matplotlib.axes._subplots.AxesSubplot at 0x7f0e8d602090>"
            ]
          },
          "metadata": {},
          "execution_count": 43
        },
        {
          "output_type": "display_data",
          "data": {
            "text/plain": [
              "<Figure size 432x288 with 1 Axes>"
            ],
            "image/png": "[encoded data removed]"
          },
          "metadata": {
            "needs_background": "light"
          }
        },
        {
          "output_type": "display_data",
          "data": {
            "text/plain": [
              "<Figure size 432x288 with 1 Axes>"
            ],
            "image/png": "[encoded data removed]"
          },
          "metadata": {
            "needs_background": "light"
          }
        }
      ],
      "source": [
        "data.plot.hist(x=\"day_number\",y=\"TX_cases\")\n",
        "data.plot.hist(x=\"day_number\",y=\"WA_cases\")"
      ]
    },
    {
      "cell_type": "markdown",
      "metadata": {
        "id": "Ao8gWQC3A720"
      },
      "source": [
        "#### Task (4)"
      ]
    },
    {
      "cell_type": "code",
      "execution_count": 44,
      "metadata": {
        "colab": {
          "base_uri": "https://localhost:8080/",
          "height": 754
        },
        "id": "0ql5XQbCA720",
        "outputId": "087a9cb5-39ac-4d21-ac21-118310639dde"
      },
      "outputs": [
        {
          "output_type": "execute_result",
          "data": {
            "text/plain": [
              "            WA_cases  TX_cases  WA_daily  TX_daily  day_number\n",
              "WA_cases    1.000000  0.983964  0.170361  0.142444    0.950282\n",
              "TX_cases    0.983964  1.000000  0.189367  0.181499    0.984750\n",
              "WA_daily    0.170361  0.189367  1.000000  0.464695    0.195219\n",
              "TX_daily    0.142444  0.181499  0.464695  1.000000    0.206574\n",
              "day_number  0.950282  0.984750  0.195219  0.206574    1.000000"
            ],
            "text/html": [
              "\n",
              "  <div id=\"df-3267100b-8f12-4999-9b53-b3d9d86d93e0\">\n",
              "    <div class=\"colab-df-container\">\n",
              "      <div>\n",
              "<style scoped>\n",
              "    .dataframe tbody tr th:only-of-type {\n",
              "        vertical-align: middle;\n",
              "    }\n",
              "\n",
              "    .dataframe tbody tr th {\n",
              "        vertical-align: top;\n",
              "    }\n",
              "\n",
              "    .dataframe thead th {\n",
              "        text-align: right;\n",
              "    }\n",
              "</style>\n",
              "<table border=\"1\" class=\"dataframe\">\n",
              "  <thead>\n",
              "    <tr style=\"text-align: right;\">\n",
              "      <th></th>\n",
              "      <th>WA_cases</th>\n",
              "      <th>TX_cases</th>\n",
              "      <th>WA_daily</th>\n",
              "      <th>TX_daily</th>\n",
              "      <th>day_number</th>\n",
              "    </tr>\n",
              "  </thead>\n",
              "  <tbody>\n",
              "    <tr>\n",
              "      <th>WA_cases</th>\n",
              "      <td>1.000000</td>\n",
              "      <td>0.983964</td>\n",
              "      <td>0.170361</td>\n",
              "      <td>0.142444</td>\n",
              "      <td>0.950282</td>\n",
              "    </tr>\n",
              "    <tr>\n",
              "      <th>TX_cases</th>\n",
              "      <td>0.983964</td>\n",
              "      <td>1.000000</td>\n",
              "      <td>0.189367</td>\n",
              "      <td>0.181499</td>\n",
              "      <td>0.984750</td>\n",
              "    </tr>\n",
              "    <tr>\n",
              "      <th>WA_daily</th>\n",
              "      <td>0.170361</td>\n",
              "      <td>0.189367</td>\n",
              "      <td>1.000000</td>\n",
              "      <td>0.464695</td>\n",
              "      <td>0.195219</td>\n",
              "    </tr>\n",
              "    <tr>\n",
              "      <th>TX_daily</th>\n",
              "      <td>0.142444</td>\n",
              "      <td>0.181499</td>\n",
              "      <td>0.464695</td>\n",
              "      <td>1.000000</td>\n",
              "      <td>0.206574</td>\n",
              "    </tr>\n",
              "    <tr>\n",
              "      <th>day_number</th>\n",
              "      <td>0.950282</td>\n",
              "      <td>0.984750</td>\n",
              "      <td>0.195219</td>\n",
              "      <td>0.206574</td>\n",
              "      <td>1.000000</td>\n",
              "    </tr>\n",
              "  </tbody>\n",
              "</table>\n",
              "</div>\n",
              "      <button class=\"colab-df-convert\" onclick=\"convertToInteractive('df-3267100b-8f12-4999-9b53-b3d9d86d93e0')\"\n",
              "              title=\"Convert this dataframe to an interactive table.\"\n",
              "              style=\"display:none;\">\n",
              "        \n",
              "  <svg xmlns=\"http://www.w3.org/2000/svg\" height=\"24px\"viewBox=\"0 0 24 24\"\n",
              "       width=\"24px\">\n",
              "    <path d=\"M0 0h24v24H0V0z\" fill=\"none\"/>\n",
              "    <path d=\"M18.56 5.44l.94 2.06.94-2.06 2.06-.94-2.06-.94-.94-2.06-.94 2.06-2.06.94zm-11 1L8.5 8.5l.94-2.06 2.06-.94-2.06-.94L8.5 2.5l-.94 2.06-2.06.94zm10 10l.94 2.06.94-2.06 2.06-.94-2.06-.94-.94-2.06-.94 2.06-2.06.94z\"/><path d=\"M17.41 7.96l-1.37-1.37c-.4-.4-.92-.59-1.43-.59-.52 0-1.04.2-1.43.59L10.3 9.45l-7.72 7.72c-.78.78-.78 2.05 0 2.83L4 21.41c.39.39.9.59 1.41.59.51 0 1.02-.2 1.41-.59l7.78-7.78 2.81-2.81c.8-.78.8-2.07 0-2.86zM5.41 20L4 18.59l7.72-7.72 1.47 1.35L5.41 20z\"/>\n",
              "  </svg>\n",
              "      </button>\n",
              "      \n",
              "  <style>\n",
              "    .colab-df-container {\n",
              "      display:flex;\n",
              "      flex-wrap:wrap;\n",
              "      gap: 12px;\n",
              "    }\n",
              "\n",
              "    .colab-df-convert {\n",
              "      background-color: #E8F0FE;\n",
              "      border: none;\n",
              "      border-radius: 50%;\n",
              "      cursor: pointer;\n",
              "      display: none;\n",
              "      fill: #1967D2;\n",
              "      height: 32px;\n",
              "      padding: 0 0 0 0;\n",
              "      width: 32px;\n",
              "    }\n",
              "\n",
              "    .colab-df-convert:hover {\n",
              "      background-color: #E2EBFA;\n",
              "      box-shadow: 0px 1px 2px rgba(60, 64, 67, 0.3), 0px 1px 3px 1px rgba(60, 64, 67, 0.15);\n",
              "      fill: #174EA6;\n",
              "    }\n",
              "\n",
              "    [theme=dark] .colab-df-convert {\n",
              "      background-color: #3B4455;\n",
              "      fill: #D2E3FC;\n",
              "    }\n",
              "\n",
              "    [theme=dark] .colab-df-convert:hover {\n",
              "      background-color: #434B5C;\n",
              "      box-shadow: 0px 1px 3px 1px rgba(0, 0, 0, 0.15);\n",
              "      filter: drop-shadow(0px 1px 2px rgba(0, 0, 0, 0.3));\n",
              "      fill: #FFFFFF;\n",
              "    }\n",
              "  </style>\n",
              "\n",
              "      <script>\n",
              "        const buttonEl =\n",
              "          document.querySelector('#df-3267100b-8f12-4999-9b53-b3d9d86d93e0 button.colab-df-convert');\n",
              "        buttonEl.style.display =\n",
              "          google.colab.kernel.accessAllowed ? 'block' : 'none';\n",
              "\n",
              "        async function convertToInteractive(key) {\n",
              "          const element = document.querySelector('#df-3267100b-8f12-4999-9b53-b3d9d86d93e0');\n",
              "          const dataTable =\n",
              "            await google.colab.kernel.invokeFunction('convertToInteractive',\n",
              "                                                     [key], {});\n",
              "          if (!dataTable) return;\n",
              "\n",
              "          const docLinkHtml = 'Like what you see? Visit the ' +\n",
              "            '<a target=\"_blank\" href=https://colab.research.google.com/notebooks/data_table.ipynb>data table notebook</a>'\n",
              "            + ' to learn more about interactive tables.';\n",
              "          element.innerHTML = '';\n",
              "          dataTable['output_type'] = 'display_data';\n",
              "          await google.colab.output.renderOutput(dataTable, element);\n",
              "          const docLink = document.createElement('div');\n",
              "          docLink.innerHTML = docLinkHtml;\n",
              "          element.appendChild(docLink);\n",
              "        }\n",
              "      </script>\n",
              "    </div>\n",
              "  </div>\n",
              "  "
            ]
          },
          "metadata": {},
          "execution_count": 44
        },
        {
          "output_type": "display_data",
          "data": {
            "text/plain": [
              "<Figure size 432x288 with 1 Axes>"
            ],
            "image/png": "[encoded data removed]"
          },
          "metadata": {
            "needs_background": "light"
          }
        },
        {
          "output_type": "display_data",
          "data": {
            "text/plain": [
              "<Figure size 432x288 with 1 Axes>"
            ],
            "image/png": "[encoded data removed]"
          },
          "metadata": {
            "needs_background": "light"
          }
        }
      ],
      "source": [
        "data.plot.scatter(x=\"day_number\",y=\"TX_cases\")\n",
        "data.plot.scatter(x=\"day_number\",y=\"WA_cases\")\n",
        "data.corr(method='pearson')"
      ]
    },
    {
      "cell_type": "markdown",
      "metadata": {
        "id": "C74FAVIVA721"
      },
      "source": [
        "#### Task (5)"
      ]
    },
    {
      "cell_type": "code",
      "execution_count": 45,
      "metadata": {
        "colab": {
          "base_uri": "https://localhost:8080/",
          "height": 741
        },
        "id": "ePhp0jVlA721",
        "outputId": "0be0affa-e780-42bd-d00c-50310c72bf5b"
      },
      "outputs": [
        {
          "output_type": "execute_result",
          "data": {
            "text/plain": [
              "<seaborn.axisgrid.FacetGrid at 0x7f0e8d4efb50>"
            ]
          },
          "metadata": {},
          "execution_count": 45
        },
        {
          "output_type": "display_data",
          "data": {
            "text/plain": [
              "<Figure size 360x360 with 1 Axes>"
            ],
            "image/png": "[encoded data removed]"
          },
          "metadata": {
            "needs_background": "light"
          }
        },
        {
          "output_type": "display_data",
          "data": {
            "text/plain": [
              "<Figure size 360x360 with 1 Axes>"
            ],
            "image/png": "[encoded data removed]"
          },
          "metadata": {
            "needs_background": "light"
          }
        }
      ],
      "source": [
        "import seaborn as sns\n",
        "sns.relplot(data=data,x=\"day_number\",y=\"WA_cases\")\n",
        "sns.relplot(data=data,x=\"day_number\",y=\"TX_cases\")"
      ]
    },
    {
      "cell_type": "markdown",
      "metadata": {
        "id": "fhw5q0EyA721"
      },
      "source": [
        "## Part 2\n",
        "\n",
        "Write a summary of what you find from the data analysis. "
      ]
    },
    {
      "cell_type": "markdown",
      "source": [
        "`From the above data analysis, we can summarize that the number of cases in Texas is much higher than in Washington with a steeper curve.`"
      ],
      "metadata": {
        "id": "tzHYxDvn8lrQ"
      }
    },
    {
      "cell_type": "markdown",
      "metadata": {
        "id": "P6NljIFBA722"
      },
      "source": [
        "### Resources\n",
        "\n",
        "#### Boxplot\n",
        "https://towardsdatascience.com/understanding-boxplots-5e2df7bcbd51\n",
        "\n",
        "\n",
        "- matplotlib.pyplot boxplot demo\n",
        "https://matplotlib.org/3.1.1/gallery/pyplots/boxplot_demo_pyplot.html\n",
        "\n",
        "\n",
        "#### matplotlib.pyplot\n",
        "- scatter plot\n",
        "https://matplotlib.org/3.3.2/api/_as_gen/matplotlib.pyplot.scatter.html\n",
        "\n",
        "\n",
        "- histogram plot\n",
        "https://matplotlib.org/3.3.2/api/_as_gen/matplotlib.pyplot.hist.html\n",
        "\n",
        "\n",
        "#### pandas DataFrame\n",
        "https://pandas.pydata.org/pandas-docs/stable/reference/api/pandas.DataFrame.html\n",
        "\n",
        "\n",
        "- describe()\n",
        "https://pandas.pydata.org/pandas-docs/stable/reference/api/pandas.DataFrame.describe.html\n",
        "\n",
        "\n",
        "- corr()\n",
        "https://pandas.pydata.org/pandas-docs/stable/reference/api/pandas.DataFrame.corr.html\n",
        "\n",
        "\n",
        "- hist()\n",
        "https://pandas.pydata.org/pandas-docs/stable/reference/api/pandas.DataFrame.hist.html\n",
        "\n",
        "\n",
        "- plot.scatter()\n",
        "https://pandas.pydata.org/pandas-docs/stable/reference/api/pandas.DataFrame.plot.scatter.html\n",
        "\n",
        "\n",
        "- pivot()\n",
        "https://pandas.pydata.org/pandas-docs/stable/reference/api/pandas.DataFrame.pivot.html"
      ]
    },
    {
      "cell_type": "code",
      "execution_count": 45,
      "metadata": {
        "id": "4sYfxa8gA723"
      },
      "outputs": [],
      "source": []
    }
  ],
  "metadata": {
    "kernelspec": {
      "display_name": "Python 3",
      "language": "python",
      "name": "python3"
    },
    "language_info": {
      "codemirror_mode": {
        "name": "ipython",
        "version": 3
      },
      "file_extension": ".py",
      "mimetype": "text/x-python",
      "name": "python",
      "nbconvert_exporter": "python",
      "pygments_lexer": "ipython3",
      "version": "3.7.3"
    },
    "colab": {
      "provenance": [],
      "collapsed_sections": []
    }
  },
  "nbformat": 4,
  "nbformat_minor": 0
}